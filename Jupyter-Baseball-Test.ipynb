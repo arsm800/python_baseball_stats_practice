{
 "cells": [
  {
   "cell_type": "code",
   "execution_count": 4,
   "metadata": {},
   "outputs": [],
   "source": [
    "import data_import\n",
    "#import python file"
   ]
  },
  {
   "cell_type": "code",
   "execution_count": 33,
   "metadata": {},
   "outputs": [
    {
     "name": "stdout",
     "output_type": "stream",
     "text": [
      "    Rk            Name         ID   Tm  Lg  W   L   W-L%   ERA   G  ...   WP  \\\n",
      "0  1.0  Fernando Abad*   abadfe01  BOS  AL  2   1  0.667  3.30  48  ...    0   \n",
      "1  2.0    Austin Adams  adamsau02  WSN  NL  0   0    NaN  3.60   6  ...    1   \n",
      "2  3.0     Tim Adleman  adlemti01  CIN  NL  5  11  0.313  5.52  30  ...    1   \n",
      "3  4.0  Andrew Albers*  alberan01  SEA  AL  5   1  0.833  3.51   9  ...    1   \n",
      "4  5.0     Matt Albers  alberma01  WSN  NL  7   2  0.778  1.62  63  ...    0   \n",
      "\n",
      "    BF   ERA+   FIP   WHIP   H9  HR9   BB9   SO9  SO/W  \n",
      "0  182  139.0  3.68  1.237  8.2  0.8   2.9   7.6  2.64  \n",
      "1   29  132.0  4.56  2.400  7.2  0.0  14.4  18.0  1.25  \n",
      "2  531   80.0  5.87  1.431  9.1  2.1   3.8   7.9  2.12  \n",
      "3  178  122.0  4.13  1.293  9.4  1.3   2.2   8.1  3.70  \n",
      "4  233  274.0  3.40  0.852  5.2  0.9   2.5   9.3  3.71  \n",
      "\n",
      "[5 rows x 35 columns]\n"
     ]
    }
   ],
   "source": [
    "data_import.excel_parse()\n",
    "#print head of data file"
   ]
  },
  {
   "cell_type": "code",
   "execution_count": 8,
   "metadata": {},
   "outputs": [
    {
     "name": "stdout",
     "output_type": "stream",
     "text": [
      "        Rk              Name         ID   Tm  Lg   W   L   W-L%   ERA   G  \\\n",
      "734  735.0       Chris Sale*   salech01  BOS  AL  17   8  0.680  2.90  32   \n",
      "740  741.0     Ervin Santana  santaer01  MIN  AL  16   8  0.667  3.28  33   \n",
      "735  736.0   Jeff Samardzija  samarje01  SFG  NL   9  15  0.375  4.42  32   \n",
      "850  851.0  Justin Verlander  verlaju01  TOT  AL  15   8  0.652  3.36  33   \n",
      "515  516.0   Carlos Martinez  martica04  STL  NL  12  11  0.522  3.64  32   \n",
      "436  437.0      Corey Kluber  klubeco01  CLE  AL  18   4  0.818  2.25  29   \n",
      "648  649.0     Rick Porcello  porceri01  BOS  AL  11  17  0.393  4.65  33   \n",
      "154  155.0       Gerrit Cole   colege01  PIT  NL  12  12  0.500  4.26  33   \n",
      "329  330.0      Zack Greinke  greinza01  ARI  NL  17   7  0.708  3.20  32   \n",
      "189  190.0      Jacob deGrom  degroja01  NYM  NL  15  10  0.600  3.53  31   \n",
      "\n",
      "     ...   WP   BF   ERA+   FIP   WHIP    H9  HR9  BB9   SO9  SO/W  \n",
      "734  ...    3  851  157.0  2.45  0.970   6.9  1.0  1.8  12.9  7.16  \n",
      "740  ...   12  864  134.0  4.46  1.126   7.5  1.3  2.6   7.1  2.74  \n",
      "735  ...    2  847   94.0  3.61  1.136   8.8  1.3  1.4   8.9  6.41  \n",
      "850  ...    5  849  133.0  3.84  1.175   7.4  1.2  3.1   9.6  3.04  \n",
      "515  ...    9  858  117.0  3.91  1.220   7.9  1.2  3.1   9.5  3.06  \n",
      "436  ...    4  777  202.0  2.50  0.869   6.2  0.9  1.6  11.7  7.36  \n",
      "648  ...    5  885   98.0  4.60  1.397  10.4  1.7  2.1   8.0  3.77  \n",
      "154  ...    7  849  101.0  4.08  1.251   8.8  1.4  2.4   8.7  3.56  \n",
      "329  ...   12  801  149.0  3.31  1.072   7.7  1.1  2.0   9.6  4.78  \n",
      "189  ...    7  827  119.0  3.50  1.187   8.0  1.3  2.6  10.7  4.05  \n",
      "\n",
      "[10 rows x 35 columns]\n"
     ]
    }
   ],
   "source": [
    "data_import.top_10_IP_sort()\n",
    "#Sort by column 'IP' (Innings pitched) and print stats for pitchers with 10 most IP"
   ]
  },
  {
   "cell_type": "code",
   "execution_count": 11,
   "metadata": {},
   "outputs": [
    {
     "data": {
      "image/png": "[encoded data removed]",
      "text/plain": [
       "<matplotlib.figure.Figure at 0x10d6eab90>"
      ]
     },
     "metadata": {},
     "output_type": "display_data"
    }
   ],
   "source": [
    "data_import.IP_histogram()\n",
    "#Create histogram of pitchers and the number of innings pitched"
   ]
  },
  {
   "cell_type": "code",
   "execution_count": 12,
   "metadata": {},
   "outputs": [
    {
     "name": "stdout",
     "output_type": "stream",
     "text": [
      "               Rk           W           L        W-L%         ERA           G  \\\n",
      "count  921.000000  922.000000  922.000000  728.000000  921.000000  922.000000   \n",
      "mean   461.000000    2.913232    2.986985    0.472148         inf   25.773319   \n",
      "std    266.014097    3.727274    3.444274    0.289009         NaN   20.899470   \n",
      "min      1.000000    0.000000    0.000000    0.000000    0.000000    1.000000   \n",
      "25%    231.000000    0.000000    0.000000    0.333000    3.380000    8.000000   \n",
      "50%    461.000000    2.000000    2.000000    0.500000    4.470000   21.500000   \n",
      "75%    691.000000    4.000000    5.000000    0.657250    6.110000   37.000000   \n",
      "max    921.000000   18.000000   17.000000    1.000000         inf   88.000000   \n",
      "\n",
      "               GS          GF          CG         SHO     ...              WP  \\\n",
      "count  922.000000  922.000000  922.000000  922.000000     ...      922.000000   \n",
      "mean     5.766811    6.189805    0.067245    0.030369     ...        2.213666   \n",
      "std      9.806425    9.618103    0.345328    0.211375     ...        2.670242   \n",
      "min      0.000000    0.000000    0.000000    0.000000     ...        0.000000   \n",
      "25%      0.000000    0.000000    0.000000    0.000000     ...        0.000000   \n",
      "50%      0.000000    2.500000    0.000000    0.000000     ...        1.000000   \n",
      "75%      8.000000    8.000000    0.000000    0.000000     ...        3.000000   \n",
      "max     34.000000   58.000000    5.000000    3.000000     ...       16.000000   \n",
      "\n",
      "               BF        ERA+         FIP        WHIP          H9         HR9  \\\n",
      "count  922.000000  890.000000  920.000000  920.000000  920.000000  920.000000   \n",
      "mean   225.659436  107.951685    5.026391    1.554353    9.960435    1.504239   \n",
      "std    214.900692   65.304659    2.833667    0.871893    6.054315    1.663129   \n",
      "min      1.000000    5.000000    0.160000    0.000000    0.000000    0.000000   \n",
      "25%     62.000000   71.000000    3.667500    1.199500    7.600000    0.800000   \n",
      "50%    167.500000   97.000000    4.490000    1.383500    9.000000    1.200000   \n",
      "75%    284.750000  127.000000    5.680000    1.658750   10.700000    1.800000   \n",
      "max    885.000000  894.000000   42.160000   15.000000   81.000000   27.000000   \n",
      "\n",
      "              BB9         SO9        SO/W  \n",
      "count  920.000000  920.000000  883.000000  \n",
      "mean     4.033152    8.082935    2.644689  \n",
      "std      3.814399    3.083295    1.912005  \n",
      "min      0.000000    0.000000    0.000000  \n",
      "25%      2.500000    6.500000    1.660000  \n",
      "50%      3.400000    8.100000    2.310000  \n",
      "75%      4.600000    9.725000    3.125000  \n",
      "max     54.000000   27.000000   24.000000  \n",
      "\n",
      "[8 rows x 31 columns]\n"
     ]
    }
   ],
   "source": [
    "data_import.data_row_summary()\n",
    "#Statistical summary of data in each row"
   ]
  },
  {
   "cell_type": "code",
   "execution_count": 13,
   "metadata": {},
   "outputs": [
    {
     "name": "stdout",
     "output_type": "stream",
     "text": [
      "18\n"
     ]
    }
   ],
   "source": [
    "data_import.query_max_wins()\n",
    "#Query maximum number of wins"
   ]
  },
  {
   "cell_type": "code",
   "execution_count": 35,
   "metadata": {
    "scrolled": true
   },
   "outputs": [
    {
     "name": "stdout",
     "output_type": "stream",
     "text": [
      "              Name   Tm  W   L   ERA  GS     IP    H  ER  BB   SO   ERA+  \\\n",
      "0   Fernando Abad*  BOS  2   1  3.30   0   43.2   40  16  14   37  139.0   \n",
      "1     Austin Adams  WSN  0   0  3.60   0    5.0    4   2   8   10  132.0   \n",
      "2      Tim Adleman  CIN  5  11  5.52  20  122.1  124  75  51  108   80.0   \n",
      "3   Andrew Albers*  SEA  5   1  3.51   6   41.0   43  16  10   37  122.0   \n",
      "4      Matt Albers  WSN  7   2  1.62   0   61.0   35  11  17   63  274.0   \n",
      "5  Al Alburquerque  TOT  0   2  2.50   0   18.0   10   5   8   14  182.0   \n",
      "6  Al Alburquerque  KCR  0   1  3.60   0   10.0    7   4   6    9  128.0   \n",
      "7  Al Alburquerque  CHW  0   1  1.13   0    8.0    3   1   2    5  398.0   \n",
      "8   Raul Alcantara  OAK  1   2  7.13   4   24.0   22  19  12   12   60.0   \n",
      "9  Sandy Alcantara  STL  0   0  4.32   0    8.1    9   4   6   10  103.0   \n",
      "\n",
      "    FIP   WHIP          str_split first_name second_name Letter  \\\n",
      "0  3.68  1.237   [Fernando Abad*]   Fernando         NaN     OS   \n",
      "1  4.56  2.400     [Austin Adams]     Austin         NaN     SN   \n",
      "2  5.87  1.431      [Tim Adleman]        Tim         NaN     IN   \n",
      "3  4.13  1.293   [Andrew Albers*]     Andrew         NaN     EA   \n",
      "4  3.40  0.852      [Matt Albers]       Matt         NaN     SN   \n",
      "5  2.94  1.000  [Al Alburquerque]         Al         NaN     OT   \n",
      "6  3.16  1.300  [Al Alburquerque]         Al         NaN     CR   \n",
      "7  2.66  0.625  [Al Alburquerque]         Al         NaN     HW   \n",
      "8  6.74  1.417   [Raul Alcantara]       Raul         NaN     AK   \n",
      "9  6.04  1.800  [Sandy Alcantara]      Sandy         NaN     TL   \n",
      "\n",
      "           name_split     last_name  \n",
      "0   [Fernando, Abad*]         Abad*  \n",
      "1     [Austin, Adams]         Adams  \n",
      "2      [Tim, Adleman]       Adleman  \n",
      "3   [Andrew, Albers*]       Albers*  \n",
      "4      [Matt, Albers]        Albers  \n",
      "5  [Al, Alburquerque]  Alburquerque  \n",
      "6  [Al, Alburquerque]  Alburquerque  \n",
      "7  [Al, Alburquerque]  Alburquerque  \n",
      "8   [Raul, Alcantara]     Alcantara  \n",
      "9  [Sandy, Alcantara]     Alcantara  \n"
     ]
    }
   ],
   "source": [
    "data_import.new_df()\n",
    "#Create new data_frame using only some of existing columns"
   ]
  },
  {
   "cell_type": "code",
   "execution_count": 15,
   "metadata": {},
   "outputs": [
    {
     "name": "stdout",
     "output_type": "stream",
     "text": [
      "                  Name   Tm   W  L   ERA  GS     IP    H  ER  BB   SO   ERA+  \\\n",
      "754      Luis Severino  NYY  14  6  2.98  31  193.1  150  64  51  230  152.0   \n",
      "624      James Paxton*  SEA  12  5  2.98  24  136.0  113  45  37  156  143.0   \n",
      "218       Carl Edwards  CHC   5  4  2.98   0   66.1   29  22  38   94  146.0   \n",
      "352        Will Harris  HOU   3  2  2.98   0   45.1   37  15   7   52  133.0   \n",
      "811   Noah Syndergaard  NYM   1  2  2.97   7   30.1   29  10   3   34  144.0   \n",
      "313      Gio Gonzalez*  WSN  15  9  2.96  32  201.0  158  66  79  188  150.0   \n",
      "38          Pedro Baez  LAD   3  6  2.95   0   64.0   56  21  29   64  142.0   \n",
      "12          Cody Allen  CLE   3  7  2.94   0   67.1   57  22  21   92  156.0   \n",
      "76      Jerry Blevins*  NYM   6  0  2.94   0   49.0   43  16  24   69  144.0   \n",
      "35        Luis Avilan*  LAD   2  3  2.93   0   46.0   42  15  22   52  143.0   \n",
      "848   Hector Velazquez  BOS   3  1  2.92   3   24.2   21   8   7   19  158.0   \n",
      "430    Dallas Keuchel*  HOU  14  5  2.90  23  145.2  116  47  47  125  136.0   \n",
      "734        Chris Sale*  BOS  17  8  2.90  32  214.1  165  69  43  308  157.0   \n",
      "677        Robbie Ray*  ARI  15  5  2.89  28  162.0  116  52  71  218  166.0   \n",
      "97       Zach Britton*  BAL   2  1  2.89   0   37.1   39  12  18   29  151.0   \n",
      "102      Ryan Buchter*  TOT   4  3  2.89   0   65.1   44  21  26   65  149.0   \n",
      "64     Dellin Betances  NYY   3  6  2.87   0   59.2   29  19  44  100  158.0   \n",
      "593       Juan Nicasio  PIT   2  5  2.85   0   60.0   49  19  18   60  152.0   \n",
      "614          Dan Otero  CLE   3  0  2.85   0   60.0   63  19   9   38  161.0   \n",
      "246        Josh Fields  LAD   5  0  2.84   0   57.0   40  18  15   60  148.0   \n",
      "678       Addison Reed  TOT   2  3  2.84   0   76.0   65  24  15   76  154.0   \n",
      "534      Kyle McGrath*  SDP   0  0  2.84   0   19.0   14   6   6   16  148.0   \n",
      "856    Arodys Vizcaino  ATL   5  3  2.83   0   57.1   42  18  21   64  151.0   \n",
      "490       Tyler Lyons*  STL   4  1  2.83   0   54.0   39  17  20   68  151.0   \n",
      "803        Pedro Strop  CHC   5  4  2.83   0   60.1   45  19  26   65  154.0   \n",
      "202    Sean Doolittle*  TOT   2  0  2.81   0   51.1   34  16  10   62  157.0   \n",
      "317         Nick Goody  CLE   1  2  2.80   0   54.2   39  17  20   72  164.0   \n",
      "426          Joe Kelly  BOS   4  1  2.79   0   58.0   42  18  27   52  164.0   \n",
      "424         Keone Kela  TEX   4  1  2.79   0   38.2   18  12  17   51  169.0   \n",
      "140     Tony Cingrani*  LAD   0  0  2.79   0   19.1   15   6   6   28  152.0   \n",
      "..                 ...  ...  .. ..   ...  ..    ...  ...  ..  ..  ...    ...   \n",
      "5      Al Alburquerque  TOT   0  2  2.50   0   18.0   10   5   8   14  182.0   \n",
      "394    Raisel Iglesias  CIN   3  3  2.49   0   76.0   57  21  27   92  177.0   \n",
      "11    Scott Alexander*  KCR   5  4  2.48   0   69.0   62  19  28   59  181.0   \n",
      "810    Anthony Swarzak  MIL   2  1  2.48   0   29.0   21   8   9   39  179.0   \n",
      "589         Pat Neshek  COL   2  1  2.45   0   22.0   20   6   1   24  206.0   \n",
      "873         Ryan Weber  SEA   0  0  2.45   1    3.2    3   1   0    0  190.0   \n",
      "174        Zac Curtis*  PHI   0  0  2.45   0    3.2    3   1   2    4  189.0   \n",
      "91        John Brebbia  STL   0  0  2.44   0   51.2   37  14  11   51  176.0   \n",
      "204    Sean Doolittle*  WSN   1  0  2.40   0   30.0   22   8   8   31  187.0   \n",
      "299      Lucas Giolito  CHW   3  3  2.38   7   45.1   31  12  12   34  181.0   \n",
      "507       Jhan Marinez  TEX   0  0  2.35   0    7.2    7   2   3    5  208.0   \n",
      "864        Adam Warren  NYY   3  2  2.35   0   57.1   35  15  15   54  193.0   \n",
      "790  Drew Steckenrider  MIA   1  1  2.34   0   34.2   30   9  18   54  175.0   \n",
      "808    Anthony Swarzak  TOT   6  4  2.33   0   77.1   58  20  22   91  187.0   \n",
      "416         Nate Jones  CHW   1  0  2.31   0   11.2    9   3   6   15  191.0   \n",
      "429   Clayton Kershaw*  LAD  18  4  2.31  27  175.0  136  45  30  202  180.0   \n",
      "296          Ken Giles  HOU   1  3  2.30   0   62.2   44  16  21   83  172.0   \n",
      "183         Wade Davis  CHC   4  2  2.30   0   58.2   39  15  28   79  190.0   \n",
      "685   Garrett Richards  LAA   0  2  2.28   6   27.2   18   7   7   27  187.0   \n",
      "436       Corey Kluber  CLE  18  4  2.25  29  203.2  141  51  36  265  202.0   \n",
      "809    Anthony Swarzak  CHW   4  3  2.23   0   48.1   37  12  13   52  193.0   \n",
      "369    David Hernandez  LAA   1  0  2.23   0   36.1   29   9   8   37  190.0   \n",
      "671        Noe Ramirez  LAA   0  0  2.16   0    8.1    3   2   4   10  203.0   \n",
      "348         Brad Hand*  SDP   3  4  2.16   0   79.1   54  19  20  104  192.0   \n",
      "831      Blake Treinen  OAK   3  4  2.13   0   38.0   32   9  12   42  201.0   \n",
      "343        Josh Hader*  MIL   2  3  2.08   0   47.2   25  11  22   68  213.0   \n",
      "577     Brandon Morrow  LAD   6  0  2.06   0   43.2   31  10   9   50  204.0   \n",
      "495        Ryan Madson  OAK   2  4  2.06   0   39.1   25   9   6   39  208.0   \n",
      "141       Steve Cishek  TOT   3  2  2.01   0   44.2   26  10  14   41  210.0   \n",
      "551       Hoby Milner*  PHI   0  0  2.01   0   31.1   30   7  16   22  212.0   \n",
      "\n",
      "      FIP   WHIP  \n",
      "754  3.08  1.040  \n",
      "624  2.61  1.103  \n",
      "218  3.40  1.010  \n",
      "352  3.33  0.971  \n",
      "811  1.31  1.055  \n",
      "313  3.93  1.179  \n",
      "38   4.44  1.328  \n",
      "12   3.19  1.158  \n",
      "76   3.12  1.367  \n",
      "35   2.96  1.391  \n",
      "848  4.58  1.135  \n",
      "430  3.79  1.119  \n",
      "734  2.45  0.970  \n",
      "677  3.72  1.154  \n",
      "97   3.40  1.527  \n",
      "102  4.54  1.071  \n",
      "64   3.23  1.223  \n",
      "593  3.02  1.117  \n",
      "614  3.64  1.200  \n",
      "246  4.18  0.965  \n",
      "678  3.67  1.053  \n",
      "534  3.79  1.053  \n",
      "856  3.72  1.099  \n",
      "490  2.86  1.093  \n",
      "803  3.31  1.177  \n",
      "202  2.59  0.857  \n",
      "317  3.45  1.079  \n",
      "426  3.49  1.190  \n",
      "424  3.26  0.905  \n",
      "140  1.86  1.086  \n",
      "..    ...    ...  \n",
      "5    2.94  1.000  \n",
      "394  2.70  1.105  \n",
      "11   3.23  1.304  \n",
      "810  3.40  1.034  \n",
      "589  1.70  0.955  \n",
      "873  3.16  0.818  \n",
      "174  2.61  1.364  \n",
      "91   4.13  0.929  \n",
      "204  2.76  1.000  \n",
      "299  4.94  0.949  \n",
      "507  3.81  1.304  \n",
      "864  3.02  0.872  \n",
      "790  3.10  1.385  \n",
      "808  2.74  1.034  \n",
      "416  3.50  1.286  \n",
      "429  3.07  0.949  \n",
      "296  2.39  1.037  \n",
      "183  3.38  1.142  \n",
      "685  2.44  0.904  \n",
      "436  2.50  0.869  \n",
      "809  2.35  1.034  \n",
      "369  1.86  1.018  \n",
      "671  2.20  0.840  \n",
      "348  3.03  0.933  \n",
      "831  3.08  1.158  \n",
      "343  3.03  0.986  \n",
      "577  1.55  0.916  \n",
      "495  2.45  0.788  \n",
      "141  3.34  0.896  \n",
      "551  4.50  1.468  \n",
      "\n",
      "[109 rows x 14 columns]\n"
     ]
    }
   ],
   "source": [
    "data_import.ERA_under_3()\n",
    "#Data for pitchers with ERA between 2 and 3"
   ]
  },
  {
   "cell_type": "code",
   "execution_count": 17,
   "metadata": {},
   "outputs": [
    {
     "name": "stdout",
     "output_type": "stream",
     "text": [
      "                 Name   Tm   W   L   ERA  GS     IP    H  ER  BB   SO   ERA+  \\\n",
      "200       R.A. Dickey  ATL  10  10  4.26  31  190.0  193  90  67  136  100.0   \n",
      "257  Mike Foltynewicz  ATL  10  13  4.79  28  154.0  169  82  59  143   89.0   \n",
      "816     Julio Teheran  ATL  11  13  4.49  32  188.1  186  94  72  151   95.0   \n",
      "\n",
      "      FIP   WHIP  \n",
      "200  4.72  1.368  \n",
      "257  4.33  1.481  \n",
      "816  4.95  1.370  \n"
     ]
    }
   ],
   "source": [
    "data_import.ATL_Braves()\n",
    "#Find all pitchers for the Braves with at least 10 wins"
   ]
  },
  {
   "cell_type": "code",
   "execution_count": 19,
   "metadata": {},
   "outputs": [
    {
     "name": "stdout",
     "output_type": "stream",
     "text": [
      "26\n"
     ]
    }
   ],
   "source": [
    "data_import.ATL()\n",
    "#Find the number of Braves pitchers recording statistics"
   ]
  },
  {
   "cell_type": "code",
   "execution_count": 20,
   "metadata": {},
   "outputs": [
    {
     "name": "stdout",
     "output_type": "stream",
     "text": [
      "1.4245946134\n"
     ]
    }
   ],
   "source": [
    "data_import.team_WHIP()\n",
    "#Calculate Atlanta's team WHIP (Hint: you can't just take the mean of each individual pitcher's WHIPs)"
   ]
  },
  {
   "cell_type": "code",
   "execution_count": 21,
   "metadata": {},
   "outputs": [
    {
     "name": "stdout",
     "output_type": "stream",
     "text": [
      "       L    SO    W\n",
      "Tm                 \n",
      "TOT  314  4780  246\n",
      "LAD   58  1549  104\n",
      "CLE   60  1614  102\n",
      "HOU   61  1593  101\n",
      "WSN   65  1457   97\n",
      "ARI   69  1482   93\n",
      "BOS   69  1580   93\n",
      "CHC   70  1439   92\n",
      "NYY   71  1560   91\n",
      "COL   75  1270   87\n",
      "MIL   76  1346   86\n",
      "MIN   77  1166   85\n",
      "STL   79  1351   83\n",
      "KCR   82  1216   80\n",
      "LAA   82  1312   80\n",
      "TBR   82  1352   80\n",
      "TEX   84  1107   78\n",
      "SEA   84  1244   78\n",
      "MIA   85  1202   77\n",
      "TOR   86  1372   76\n",
      "BAL   87  1233   75\n",
      "PIT   87  1262   75\n",
      "OAK   87  1202   75\n",
      "ATL   90  1258   72\n",
      "SDP   91  1325   71\n",
      "NYM   92  1374   70\n",
      "CIN   94  1300   68\n",
      "CHW   95  1193   67\n",
      "PHI   96  1309   66\n",
      "SFG   98  1234   64\n",
      "DET   98  1202   64\n"
     ]
    }
   ],
   "source": [
    "data_import.pivot()\n",
    "#Test out pivot aggregation teams' wins, losses, and strikeouts"
   ]
  },
  {
   "cell_type": "code",
   "execution_count": 27,
   "metadata": {},
   "outputs": [
    {
     "data": {
      "image/png": "[encoded data removed]",
      "text/plain": [
       "<matplotlib.figure.Figure at 0x10dbb3ad0>"
      ]
     },
     "metadata": {},
     "output_type": "display_data"
    }
   ],
   "source": [
    "data_import.wins_hist()\n",
    "#create histogram of pitcher wins"
   ]
  },
  {
   "cell_type": "code",
   "execution_count": 29,
   "metadata": {},
   "outputs": [
    {
     "data": {
      "image/png": "[encoded data removed]",
      "text/plain": [
       "<matplotlib.figure.Figure at 0x10d8ea6d0>"
      ]
     },
     "metadata": {},
     "output_type": "display_data"
    }
   ],
   "source": [
    "data_import.scatter()\n",
    "#scatter plot to determine if there is a correlation between wins and strikeouts"
   ]
  }
 ],
 "metadata": {
  "kernelspec": {
   "display_name": "Python 2",
   "language": "python",
   "name": "python2"
  },
  "language_info": {
   "codemirror_mode": {
    "name": "ipython",
    "version": 2
   },
   "file_extension": ".py",
   "mimetype": "text/x-python",
   "name": "python",
   "nbconvert_exporter": "python",
   "pygments_lexer": "ipython2",
   "version": "2.7.14"
  }
 },
 "nbformat": 4,
 "nbformat_minor": 2
}
